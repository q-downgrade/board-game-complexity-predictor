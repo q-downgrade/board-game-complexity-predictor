{
 "cells": [
  {
   "cell_type": "markdown",
   "metadata": {},
   "source": [
    "# Importing Libraries & Data"
   ]
  },
  {
   "cell_type": "code",
   "execution_count": 1,
   "metadata": {},
   "outputs": [],
   "source": [
    "import pandas as pd\n",
    "import numpy as np\n",
    "import seaborn as sns\n",
    "import matplotlib.pyplot as plt\n",
    "from sklearn.pipeline import Pipeline\n",
    "from sklearn.model_selection import cross_val_score, train_test_split, GridSearchCV\n",
    "from sklearn.linear_model import LogisticRegression\n",
    "from sklearn.naive_bayes import MultinomialNB, GaussianNB\n",
    "from sklearn.neighbors import KNeighborsClassifier\n",
    "from sklearn.svm import SVC\n",
    "from sklearn.ensemble import BaggingClassifier, RandomForestClassifier, ExtraTreesClassifier\n",
    "from sklearn.ensemble import GradientBoostingClassifier, AdaBoostClassifier, VotingClassifier\n",
    "from sklearn.tree import DecisionTreeClassifier\n",
    "from sklearn.metrics import confusion_matrix\n",
    "from sklearn.preprocessing import StandardScaler, MinMaxScaler, PolynomialFeatures, LabelBinarizer\n",
    "from sklearn.metrics import confusion_matrix\n",
    "import pickle\n",
    "\n",
    "\n",
    "import warnings\n",
    "warnings.filterwarnings('ignore')"
   ]
  },
  {
   "cell_type": "code",
   "execution_count": 2,
   "metadata": {},
   "outputs": [
    {
     "data": {
      "text/plain": [
       "(19036, 199)"
      ]
     },
     "execution_count": 2,
     "metadata": {},
     "output_type": "execute_result"
    }
   ],
   "source": [
    "df = pd.read_csv('../data/final_dataset.csv') # importing dataset\n",
    "df.shape"
   ]
  },
  {
   "cell_type": "code",
   "execution_count": 3,
   "metadata": {},
   "outputs": [
    {
     "data": {
      "text/plain": [
       "Index(['name', 'yearpublished', 'minplayers', 'maxplayers', 'minplaytime',\n",
       "       'maxplaytime', 'minage', 'languagedependence', 'boardgamecategory_cnt',\n",
       "       'boardgamemechanic_cnt',\n",
       "       ...\n",
       "       'Category Transportation', 'Category Travel', 'Category Trivia',\n",
       "       'Category Video Game Theme', 'Category Vietnam War', 'Category Wargame',\n",
       "       'Category Word Game', 'Category World War I', 'Category World War II',\n",
       "       'Category Zombies'],\n",
       "      dtype='object', length=199)"
      ]
     },
     "execution_count": 3,
     "metadata": {},
     "output_type": "execute_result"
    }
   ],
   "source": [
    "df.keys() # getting a list of feature names"
   ]
  },
  {
   "cell_type": "code",
   "execution_count": 4,
   "metadata": {},
   "outputs": [],
   "source": [
    "# creating lists of the least impactful mechanics and categories, based on the models in the previous notebook\n",
    "mech_list = [\n",
    "    'Mechanic Action Drafting', 'Mechanic Action Queue',\n",
    "    'Mechanic Action Retrieval', 'Mechanic Action Timer',\n",
    "    'Mechanic Action/Event', 'Mechanic Advantage Token',\n",
    "    'Mechanic Area Movement', 'Mechanic Area-Impulse',\n",
    "    'Mechanic Auction/Bidding', 'Mechanic Auction: Sealed Bid',\n",
    "    'Mechanic Auction: Turn Order Until Pass',\n",
    "    'Mechanic Automatic Resource Growth', 'Mechanic Bias', 'Mechanic Bribery',\n",
    "    'Mechanic Card Drafting', 'Mechanic Catch the Leader', 'Mechanic Chaining',\n",
    "    'Mechanic Chit-Pull System', 'Mechanic Command Cards',\n",
    "    'Mechanic Commodity Speculation', 'Mechanic Communication Limits',\n",
    "    'Mechanic Connections', 'Mechanic Critical Hits and Failures',\n",
    "    'Mechanic Dice Rolling', 'Mechanic Different Dice Movement',\n",
    "    'Mechanic Drafting', 'Mechanic Elapsed Real Time Ending',\n",
    "    'Mechanic Enclosure', 'Mechanic Events', 'Mechanic Flicking',\n",
    "    'Mechanic Follow', 'Mechanic Grid Coverage', 'Mechanic Grid Movement',\n",
    "    'Mechanic Hand Management', 'Mechanic Hidden Movement',\n",
    "    'Mechanic Hidden Roles', 'Mechanic Highest-Lowest Scoring',\n",
    "    'Mechanic Increase Value of Unchosen Resources', 'Mechanic Investment',\n",
    "    'Mechanic Legacy Game', 'Mechanic Line Drawing', 'Mechanic Mancala',\n",
    "    'Mechanic Market', 'Mechanic Measurement Movement',\n",
    "    'Mechanic Melding and Splaying', 'Mechanic Minimap Resolution',\n",
    "    'Mechanic Modular Board', 'Mechanic Move Through Deck',\n",
    "    'Mechanic Multiple Maps', 'Mechanic Negotiation', 'Mechanic Ownership',\n",
    "    'Mechanic Pattern Building', 'Mechanic Physical Removal',\n",
    "    'Mechanic Pick-up and Deliver', 'Mechanic Player Judge',\n",
    "    'Mechanic Point to Point Movement', 'Mechanic Race', 'Mechanic Real-Time',\n",
    "    'Mechanic Resource to Move', 'Mechanic Role Playing',\n",
    "    'Mechanic Roles with Asymmetric Information', 'Mechanic Rondel',\n",
    "    'Mechanic Score-and-Reset Game', 'Mechanic Secret Unit Deployment',\n",
    "    'Mechanic Set Collection', 'Mechanic Simulation',\n",
    "    'Mechanic Simultaneous Action Selection', 'Mechanic Singing',\n",
    "    'Mechanic Solo / Solitaire Game', 'Mechanic Square Grid',\n",
    "    'Mechanic Stacking and Balancing', 'Mechanic Stock Holding',\n",
    "    'Mechanic Take That', 'Mechanic Team-Based Game',\n",
    "    'Mechanic Tile Placement', 'Mechanic Time Track', 'Mechanic Trading',\n",
    "    'Mechanic Traitor Game', 'Mechanic Trick-taking', 'Mechanic Voting',\n",
    "    'Mechanic Worker Placement'\n",
    "]\n",
    "\n",
    "cat_list = [\n",
    "    'Category Abstract Strategy', 'Category Adventure',\n",
    "    'Category American Civil War', 'Category American Indian Wars',\n",
    "    'Category American West', 'Category Ancient', 'Category Animals',\n",
    "    'Category Arabian', 'Category Aviation / Flight', 'Category Bluffing',\n",
    "    'Category Book', 'Category City Building', 'Category Civil War',\n",
    "    'Category Collectible Components', 'Category Comic Book / Strip',\n",
    "    'Category Dice', 'Category Educational', 'Category Electronic',\n",
    "    'Category Environmental', 'Category Exploration', 'Category Fantasy',\n",
    "    'Category Farming', 'Category Fighting', 'Category Game System',\n",
    "    'Category Horror', 'Category Industry / Manufacturing', 'Category Mafia',\n",
    "    'Category Maze', 'Category Memory', 'Category Modern Warfare',\n",
    "    'Category Movies / TV / Radio theme', 'Category Music',\n",
    "    'Category Mythology', 'Category Nautical', 'Category Negotiation',\n",
    "    'Category Novel-based', 'Category Number', 'Category Pirates',\n",
    "    'Category Political', 'Category Post-Napoleonic', 'Category Prehistoric',\n",
    "    'Category Print & Play', 'Category Real-time', 'Category Religious',\n",
    "    'Category Science Fiction', 'Category Space Exploration',\n",
    "    'Category Spies/Secret Agents', 'Category Sports',\n",
    "    'Category Transportation', 'Category Travel', 'Category Trivia',\n",
    "    'Category Video Game Theme', 'Category World War I',\n",
    "    'Category World War II', 'Category Zombies'\n",
    "]"
   ]
  },
  {
   "cell_type": "code",
   "execution_count": 5,
   "metadata": {},
   "outputs": [],
   "source": [
    "df['Mechanic Other'] = df[mech_list].sum(axis = 1) # summing the less impactful mechanics into a single column"
   ]
  },
  {
   "cell_type": "code",
   "execution_count": 6,
   "metadata": {},
   "outputs": [
    {
     "data": {
      "text/plain": [
       "1    10365\n",
       "0     8671\n",
       "Name: Mechanic Other, dtype: int64"
      ]
     },
     "execution_count": 6,
     "metadata": {},
     "output_type": "execute_result"
    }
   ],
   "source": [
    "df['Mechanic Other'].value_counts()"
   ]
  },
  {
   "cell_type": "code",
   "execution_count": 7,
   "metadata": {},
   "outputs": [],
   "source": [
    "df['Category Other'] = df[cat_list].sum(axis = 1) # summing the less impactful categories into a single column"
   ]
  },
  {
   "cell_type": "code",
   "execution_count": 8,
   "metadata": {},
   "outputs": [
    {
     "data": {
      "text/plain": [
       "0    9646\n",
       "1    9390\n",
       "Name: Category Other, dtype: int64"
      ]
     },
     "execution_count": 8,
     "metadata": {},
     "output_type": "execute_result"
    }
   ],
   "source": [
    "df['Category Other'].value_counts()"
   ]
  },
  {
   "cell_type": "code",
   "execution_count": 9,
   "metadata": {},
   "outputs": [
    {
     "data": {
      "text/plain": [
       "(19036, 65)"
      ]
     },
     "execution_count": 9,
     "metadata": {},
     "output_type": "execute_result"
    }
   ],
   "source": [
    "df.drop(columns = mech_list, inplace = True) # dropping the less impactful mechanics and categories\n",
    "df.drop(columns = cat_list, inplace = True)\n",
    "df.shape"
   ]
  },
  {
   "cell_type": "markdown",
   "metadata": {},
   "source": [
    "65 features is much more manageable than the 199 that were originally in the model. Hopefully that's enough to find a good production model."
   ]
  },
  {
   "cell_type": "code",
   "execution_count": 10,
   "metadata": {},
   "outputs": [],
   "source": [
    "# converting the avgweight feature to categorical data for better modeling\n",
    "# using the categories found here: https://boardgamegeek.com/wiki/page/Weight\n",
    "conversion_dict = {1: 'light',\n",
    "                   2: 'medium light',\n",
    "                   3: 'medium',\n",
    "                   4: 'medium heavy',\n",
    "                   5: 'heavy'}"
   ]
  },
  {
   "cell_type": "code",
   "execution_count": 11,
   "metadata": {},
   "outputs": [],
   "source": [
    "df['avgweight'] = np.round(df['avgweight']) # rounding avgweight\n",
    "df['avgweight'] = df['avgweight'].map(conversion_dict) # mapping the conversion dictionary to avgweight"
   ]
  },
  {
   "cell_type": "code",
   "execution_count": 12,
   "metadata": {},
   "outputs": [],
   "source": [
    "df.drop(columns=[\n",
    "    'yearpublished', 'boardgamecategory', 'boardgamemechanic', 'languagedependence',\n",
    "    'description'],\n",
    "        inplace=True)"
   ]
  },
  {
   "cell_type": "code",
   "execution_count": 13,
   "metadata": {},
   "outputs": [],
   "source": [
    "# reorganizing the columns to make the flask app a bit more intuitive\n",
    "df = df[[\n",
    "    'name', 'minplayers', 'maxplayers', 'minplaytime', 'maxplaytime', 'minage',\n",
    "    'boardgamecategory_cnt', 'boardgamemechanic_cnt', 'avgweight',\n",
    "    'Mechanic Acting', 'Mechanic Action Points', 'Mechanic Alliances',\n",
    "    'Mechanic Area Majority / Influence', 'Mechanic Betting and Bluffing',\n",
    "    'Mechanic Campaign / Battle Card Driven', 'Mechanic Contracts',\n",
    "    'Mechanic Cooperative Game', 'Mechanic Crayon Rail System',\n",
    "    'Mechanic End Game Bonuses', 'Mechanic Hexagon Grid', 'Mechanic Memory',\n",
    "    'Mechanic Network and Route Building', 'Mechanic Paper-and-Pencil',\n",
    "    'Mechanic Pattern Recognition', 'Mechanic Player Elimination',\n",
    "    'Mechanic Push Your Luck', 'Mechanic Rock-Paper-Scissors',\n",
    "    'Mechanic Roll / Spin and Move', 'Mechanic Storytelling',\n",
    "    'Mechanic Variable Phase Order', 'Mechanic Variable Player Powers',\n",
    "    'Mechanic Other', 'Category Action / Dexterity', 'Category Age of Reason',\n",
    "    'Category American Revolutionary War', 'Category Card Game',\n",
    "    'Category Civilization', 'Category Deduction', 'Category Economic',\n",
    "    'Category Expansion for Base-game', 'Category Humor',\n",
    "    'Category Korean War', 'Category Math', 'Category Mature / Adult',\n",
    "    'Category Medical', 'Category Medieval', 'Category Miniatures',\n",
    "    'Category Murder/Mystery', 'Category Napoleonic', 'Category Party Game',\n",
    "    'Category Pike and Shot', 'Category Puzzle', 'Category Racing',\n",
    "    'Category Renaissance', 'Category Territory Building', 'Category Trains',\n",
    "    'Category Vietnam War', 'Category Wargame', 'Category Word Game',\n",
    "    'Category Other'\n",
    "]]"
   ]
  },
  {
   "cell_type": "code",
   "execution_count": 14,
   "metadata": {},
   "outputs": [],
   "source": [
    "X = df._get_numeric_data()\n",
    "y = df['avgweight']\n",
    "\n",
    "X_train, X_test, y_train, y_test = train_test_split(X, y, stratify = y, random_state = 1919)"
   ]
  },
  {
   "cell_type": "markdown",
   "metadata": {},
   "source": [
    "# Modeling"
   ]
  },
  {
   "cell_type": "markdown",
   "metadata": {},
   "source": [
    "## Base Model"
   ]
  },
  {
   "cell_type": "code",
   "execution_count": 16,
   "metadata": {},
   "outputs": [
    {
     "data": {
      "text/plain": [
       "medium light    0.441007\n",
       "light           0.299170\n",
       "medium          0.204245\n",
       "medium heavy    0.053215\n",
       "heavy           0.002364\n",
       "Name: avgweight, dtype: float64"
      ]
     },
     "execution_count": 16,
     "metadata": {},
     "output_type": "execute_result"
    }
   ],
   "source": [
    "y.value_counts(normalize = True)"
   ]
  },
  {
   "cell_type": "markdown",
   "metadata": {},
   "source": [
    "A base model would be 44% accurate if it guessed \"medium light\" each time. The goal will be to find a production model that can beat that."
   ]
  },
  {
   "cell_type": "markdown",
   "metadata": {},
   "source": [
    "## Logistic Regression Model"
   ]
  },
  {
   "cell_type": "code",
   "execution_count": 17,
   "metadata": {},
   "outputs": [
    {
     "data": {
      "text/plain": [
       "Pipeline(memory=None,\n",
       "         steps=[('lr',\n",
       "                 LogisticRegression(C=1, class_weight=None, dual=False,\n",
       "                                    fit_intercept=True, intercept_scaling=1,\n",
       "                                    l1_ratio=None, max_iter=100,\n",
       "                                    multi_class='auto', n_jobs=None,\n",
       "                                    penalty='l1', random_state=None,\n",
       "                                    solver='liblinear', tol=0.0001, verbose=0,\n",
       "                                    warm_start=False))],\n",
       "         verbose=False)"
      ]
     },
     "execution_count": 17,
     "metadata": {},
     "output_type": "execute_result"
    }
   ],
   "source": [
    "pipe = Pipeline(steps = [           # running a pipeline of a Logistic Regression\n",
    "    ('lr', LogisticRegression())\n",
    "])\n",
    "\n",
    "params = {                          # setting parameters\n",
    "    'lr__penalty' : ['l1'],\n",
    "    'lr__C' : [1],\n",
    "    'lr__solver' : ['liblinear']\n",
    "}\n",
    "\n",
    "gs_lr = GridSearchCV(pipe,\n",
    "                    param_grid = params,\n",
    "                    cv = 5,\n",
    "                    scoring = 'accuracy',\n",
    "                    n_jobs = -2)\n",
    "\n",
    "gs_lr.fit(X_train, y_train)\n",
    "gs_lr.best_estimator_"
   ]
  },
  {
   "cell_type": "code",
   "execution_count": 18,
   "metadata": {},
   "outputs": [
    {
     "data": {
      "text/plain": [
       "0.5959235133431393"
      ]
     },
     "execution_count": 18,
     "metadata": {},
     "output_type": "execute_result"
    }
   ],
   "source": [
    "gs_lr.score(X_train, y_train) # scoring the model"
   ]
  },
  {
   "cell_type": "code",
   "execution_count": 19,
   "metadata": {},
   "outputs": [
    {
     "data": {
      "text/plain": [
       "0.5915810141920165"
      ]
     },
     "execution_count": 19,
     "metadata": {},
     "output_type": "execute_result"
    }
   ],
   "source": [
    "gs_lr.best_score_ # cross-val score"
   ]
  },
  {
   "cell_type": "code",
   "execution_count": 20,
   "metadata": {},
   "outputs": [
    {
     "data": {
      "text/plain": [
       "0.5879386425719689"
      ]
     },
     "execution_count": 20,
     "metadata": {},
     "output_type": "execute_result"
    }
   ],
   "source": [
    "gs_lr.score(X_test, y_test) #test score"
   ]
  },
  {
   "cell_type": "markdown",
   "metadata": {},
   "source": [
    "## KNN Model"
   ]
  },
  {
   "cell_type": "code",
   "execution_count": 21,
   "metadata": {},
   "outputs": [
    {
     "data": {
      "text/plain": [
       "Pipeline(memory=None,\n",
       "         steps=[('sc',\n",
       "                 StandardScaler(copy=True, with_mean=True, with_std=True)),\n",
       "                ('knn',\n",
       "                 KNeighborsClassifier(algorithm='auto', leaf_size=30,\n",
       "                                      metric='minkowski', metric_params=None,\n",
       "                                      n_jobs=None, n_neighbors=21, p=1,\n",
       "                                      weights='uniform'))],\n",
       "         verbose=False)"
      ]
     },
     "execution_count": 21,
     "metadata": {},
     "output_type": "execute_result"
    }
   ],
   "source": [
    "pipe = Pipeline(steps = [                 # setting a KNN model with a standard scaler\n",
    "    ('sc', StandardScaler()),\n",
    "    ('knn', KNeighborsClassifier())\n",
    "])\n",
    "\n",
    "params = {                                # setting model paramenters\n",
    "    'knn__n_neighbors' : [21],\n",
    "    'knn__p' : [1]\n",
    "}\n",
    "\n",
    "gs_knn = GridSearchCV(pipe,\n",
    "                    param_grid = params,\n",
    "                    cv = 5,\n",
    "                    scoring = 'accuracy')\n",
    "\n",
    "gs_knn.fit(X_train, y_train)\n",
    "gs_knn.best_estimator_"
   ]
  },
  {
   "cell_type": "code",
   "execution_count": 22,
   "metadata": {},
   "outputs": [
    {
     "data": {
      "text/plain": [
       "0.6361980808293058"
      ]
     },
     "execution_count": 22,
     "metadata": {},
     "output_type": "execute_result"
    }
   ],
   "source": [
    "gs_knn.score(X_train, y_train) # scoring the model"
   ]
  },
  {
   "cell_type": "code",
   "execution_count": 23,
   "metadata": {},
   "outputs": [
    {
     "data": {
      "text/plain": [
       "0.6001975991797771"
      ]
     },
     "execution_count": 23,
     "metadata": {},
     "output_type": "execute_result"
    }
   ],
   "source": [
    "gs_knn.best_score_ # cross-val score"
   ]
  },
  {
   "cell_type": "code",
   "execution_count": 24,
   "metadata": {},
   "outputs": [
    {
     "data": {
      "text/plain": [
       "0.6005463332632907"
      ]
     },
     "execution_count": 24,
     "metadata": {},
     "output_type": "execute_result"
    }
   ],
   "source": [
    "gs_knn.score(X_test, y_test) # test score"
   ]
  },
  {
   "cell_type": "markdown",
   "metadata": {},
   "source": [
    "## Decision Tree Model"
   ]
  },
  {
   "cell_type": "code",
   "execution_count": 25,
   "metadata": {},
   "outputs": [
    {
     "data": {
      "text/plain": [
       "Pipeline(memory=None,\n",
       "         steps=[('tree',\n",
       "                 DecisionTreeClassifier(ccp_alpha=0.0, class_weight=None,\n",
       "                                        criterion='gini', max_depth=8,\n",
       "                                        max_features=None, max_leaf_nodes=None,\n",
       "                                        min_impurity_decrease=0.0,\n",
       "                                        min_impurity_split=None,\n",
       "                                        min_samples_leaf=1, min_samples_split=2,\n",
       "                                        min_weight_fraction_leaf=0.0,\n",
       "                                        presort='deprecated', random_state=None,\n",
       "                                        splitter='best'))],\n",
       "         verbose=False)"
      ]
     },
     "execution_count": 25,
     "metadata": {},
     "output_type": "execute_result"
    }
   ],
   "source": [
    "pipe = Pipeline(steps = [                 # setting a Decision Tree model\n",
    "    ('tree', DecisionTreeClassifier())\n",
    "])\n",
    "\n",
    "params = {                                # setting model paramenters\n",
    "    'tree__max_depth' : [6, 8],\n",
    "}\n",
    "\n",
    "gs_tree = GridSearchCV(pipe,\n",
    "                    param_grid = params,\n",
    "                    cv = 5,\n",
    "                    scoring = 'accuracy'\n",
    "                    )\n",
    "\n",
    "gs_tree.fit(X_train, y_train)\n",
    "gs_tree.best_estimator_"
   ]
  },
  {
   "cell_type": "code",
   "execution_count": 26,
   "metadata": {},
   "outputs": [
    {
     "data": {
      "text/plain": [
       "0.668487777544302"
      ]
     },
     "execution_count": 26,
     "metadata": {},
     "output_type": "execute_result"
    }
   ],
   "source": [
    "gs_tree.score(X_train, y_train) # scoring the model"
   ]
  },
  {
   "cell_type": "code",
   "execution_count": 27,
   "metadata": {},
   "outputs": [
    {
     "data": {
      "text/plain": [
       "0.6284238178633975"
      ]
     },
     "execution_count": 27,
     "metadata": {},
     "output_type": "execute_result"
    }
   ],
   "source": [
    "gs_tree.best_score_ # cross-val score"
   ]
  },
  {
   "cell_type": "code",
   "execution_count": 28,
   "metadata": {},
   "outputs": [
    {
     "data": {
      "text/plain": [
       "0.630594662744274"
      ]
     },
     "execution_count": 28,
     "metadata": {},
     "output_type": "execute_result"
    }
   ],
   "source": [
    "gs_tree.score(X_test, y_test) # test score"
   ]
  },
  {
   "cell_type": "markdown",
   "metadata": {},
   "source": [
    "## Bagging Classifier Model"
   ]
  },
  {
   "cell_type": "code",
   "execution_count": 29,
   "metadata": {},
   "outputs": [
    {
     "data": {
      "text/plain": [
       "Pipeline(memory=None,\n",
       "         steps=[('bag',\n",
       "                 BaggingClassifier(base_estimator=None, bootstrap=True,\n",
       "                                   bootstrap_features=False, max_features=1.0,\n",
       "                                   max_samples=1.0, n_estimators=200,\n",
       "                                   n_jobs=None, oob_score=False,\n",
       "                                   random_state=None, verbose=0,\n",
       "                                   warm_start=False))],\n",
       "         verbose=False)"
      ]
     },
     "execution_count": 29,
     "metadata": {},
     "output_type": "execute_result"
    }
   ],
   "source": [
    "pipe = Pipeline(steps = [                 # setting up a Bagging Classifier model\n",
    "    ('bag', BaggingClassifier())\n",
    "])\n",
    "\n",
    "params = {                                # setting model paramenters\n",
    "    'bag__n_estimators' : [200],\n",
    "}\n",
    "\n",
    "gs_bag = GridSearchCV(pipe,\n",
    "                    param_grid = params,\n",
    "                    cv = 5,\n",
    "                    scoring = 'accuracy'\n",
    "                    )\n",
    "\n",
    "gs_bag.fit(X_train, y_train)\n",
    "gs_bag.best_estimator_"
   ]
  },
  {
   "cell_type": "code",
   "execution_count": 30,
   "metadata": {},
   "outputs": [
    {
     "data": {
      "text/plain": [
       "0.9498494081389648"
      ]
     },
     "execution_count": 30,
     "metadata": {},
     "output_type": "execute_result"
    }
   ],
   "source": [
    "gs_bag.score(X_train, y_train) # scoring the model"
   ]
  },
  {
   "cell_type": "code",
   "execution_count": 31,
   "metadata": {},
   "outputs": [
    {
     "data": {
      "text/plain": [
       "0.6170079029860631"
      ]
     },
     "execution_count": 31,
     "metadata": {},
     "output_type": "execute_result"
    }
   ],
   "source": [
    "gs_bag.best_score_ # cross-val score"
   ]
  },
  {
   "cell_type": "code",
   "execution_count": 32,
   "metadata": {},
   "outputs": [
    {
     "data": {
      "text/plain": [
       "0.6142046648455558"
      ]
     },
     "execution_count": 32,
     "metadata": {},
     "output_type": "execute_result"
    }
   ],
   "source": [
    "gs_bag.score(X_test, y_test) # test score"
   ]
  },
  {
   "cell_type": "markdown",
   "metadata": {},
   "source": [
    "## Random Forest Model"
   ]
  },
  {
   "cell_type": "code",
   "execution_count": 33,
   "metadata": {},
   "outputs": [
    {
     "data": {
      "text/plain": [
       "Pipeline(memory=None,\n",
       "         steps=[('forest',\n",
       "                 RandomForestClassifier(bootstrap=True, ccp_alpha=0.0,\n",
       "                                        class_weight=None, criterion='gini',\n",
       "                                        max_depth=15, max_features='auto',\n",
       "                                        max_leaf_nodes=None, max_samples=None,\n",
       "                                        min_impurity_decrease=0.0,\n",
       "                                        min_impurity_split=None,\n",
       "                                        min_samples_leaf=1, min_samples_split=2,\n",
       "                                        min_weight_fraction_leaf=0.0,\n",
       "                                        n_estimators=150, n_jobs=None,\n",
       "                                        oob_score=False, random_state=None,\n",
       "                                        verbose=0, warm_start=False))],\n",
       "         verbose=False)"
      ]
     },
     "execution_count": 33,
     "metadata": {},
     "output_type": "execute_result"
    }
   ],
   "source": [
    "pipe = Pipeline(steps = [                 # setting up a Random Forest model\n",
    "    ('forest', RandomForestClassifier())\n",
    "])\n",
    "\n",
    "params = {                                # setting model paramenters\n",
    "    'forest__n_estimators' : [150],\n",
    "    'forest__max_depth' : [15]\n",
    "}\n",
    "\n",
    "gs_forest = GridSearchCV(pipe,\n",
    "                    param_grid = params,\n",
    "                    cv = 5,\n",
    "                    scoring = 'accuracy'\n",
    "                    )\n",
    "\n",
    "gs_forest.fit(X_train, y_train)\n",
    "gs_forest.best_estimator_"
   ]
  },
  {
   "cell_type": "code",
   "execution_count": 34,
   "metadata": {},
   "outputs": [
    {
     "data": {
      "text/plain": [
       "0.7755130629684107"
      ]
     },
     "execution_count": 34,
     "metadata": {},
     "output_type": "execute_result"
    }
   ],
   "source": [
    "gs_forest.score(X_train, y_train) # scoring the model"
   ]
  },
  {
   "cell_type": "code",
   "execution_count": 35,
   "metadata": {},
   "outputs": [
    {
     "data": {
      "text/plain": [
       "0.656230457156593"
      ]
     },
     "execution_count": 35,
     "metadata": {},
     "output_type": "execute_result"
    }
   ],
   "source": [
    "gs_forest.best_score_ # cross-val score"
   ]
  },
  {
   "cell_type": "code",
   "execution_count": 36,
   "metadata": {},
   "outputs": [
    {
     "data": {
      "text/plain": [
       "0.6492960706030678"
      ]
     },
     "execution_count": 36,
     "metadata": {},
     "output_type": "execute_result"
    }
   ],
   "source": [
    "gs_forest.score(X_test, y_test) # test score"
   ]
  },
  {
   "cell_type": "markdown",
   "metadata": {},
   "source": [
    "## Extra Trees Model"
   ]
  },
  {
   "cell_type": "code",
   "execution_count": 37,
   "metadata": {},
   "outputs": [
    {
     "data": {
      "text/plain": [
       "Pipeline(memory=None,\n",
       "         steps=[('extra',\n",
       "                 ExtraTreesClassifier(bootstrap=False, ccp_alpha=0.0,\n",
       "                                      class_weight=None, criterion='gini',\n",
       "                                      max_depth=None, max_features='auto',\n",
       "                                      max_leaf_nodes=None, max_samples=None,\n",
       "                                      min_impurity_decrease=0.0,\n",
       "                                      min_impurity_split=None,\n",
       "                                      min_samples_leaf=1, min_samples_split=2,\n",
       "                                      min_weight_fraction_leaf=0.0,\n",
       "                                      n_estimators=600, n_jobs=None,\n",
       "                                      oob_score=False, random_state=None,\n",
       "                                      verbose=0, warm_start=False))],\n",
       "         verbose=False)"
      ]
     },
     "execution_count": 37,
     "metadata": {},
     "output_type": "execute_result"
    }
   ],
   "source": [
    "pipe = Pipeline(steps = [                 # setting up and Extra Trees model\n",
    "    ('extra', ExtraTreesClassifier())\n",
    "])\n",
    "\n",
    "params = {                                # setting model paramenters\n",
    "    'extra__n_estimators' : [600],\n",
    "    'extra__max_depth' : [None]\n",
    "}\n",
    "\n",
    "gs_extra = GridSearchCV(pipe,\n",
    "                    param_grid = params,\n",
    "                    cv = 5,\n",
    "                    scoring = 'accuracy'\n",
    "                    )\n",
    "\n",
    "gs_extra.fit(X_train, y_train)\n",
    "gs_extra.best_estimator_"
   ]
  },
  {
   "cell_type": "code",
   "execution_count": 38,
   "metadata": {},
   "outputs": [
    {
     "data": {
      "text/plain": [
       "0.9498494081389648"
      ]
     },
     "execution_count": 38,
     "metadata": {},
     "output_type": "execute_result"
    }
   ],
   "source": [
    "gs_extra.score(X_train, y_train) # scoring the model"
   ]
  },
  {
   "cell_type": "code",
   "execution_count": 39,
   "metadata": {},
   "outputs": [
    {
     "data": {
      "text/plain": [
       "0.6179176784549197"
      ]
     },
     "execution_count": 39,
     "metadata": {},
     "output_type": "execute_result"
    }
   ],
   "source": [
    "gs_extra.best_score_ # cross-val score"
   ]
  },
  {
   "cell_type": "code",
   "execution_count": 40,
   "metadata": {},
   "outputs": [
    {
     "data": {
      "text/plain": [
       "0.6125236394200462"
      ]
     },
     "execution_count": 40,
     "metadata": {},
     "output_type": "execute_result"
    }
   ],
   "source": [
    "gs_extra.score(X_test, y_test) # test score"
   ]
  },
  {
   "cell_type": "markdown",
   "metadata": {},
   "source": [
    "## AdaBoost Model"
   ]
  },
  {
   "cell_type": "code",
   "execution_count": 41,
   "metadata": {},
   "outputs": [
    {
     "data": {
      "text/plain": [
       "Pipeline(memory=None,\n",
       "         steps=[('ada',\n",
       "                 AdaBoostClassifier(algorithm='SAMME.R', base_estimator=None,\n",
       "                                    learning_rate=1.0, n_estimators=10,\n",
       "                                    random_state=None))],\n",
       "         verbose=False)"
      ]
     },
     "execution_count": 41,
     "metadata": {},
     "output_type": "execute_result"
    }
   ],
   "source": [
    "pipe = Pipeline(steps = [                 # setting up an AdaBoost model\n",
    "    ('ada', AdaBoostClassifier())\n",
    "])\n",
    "\n",
    "params = {                                # setting model paramenters\n",
    "    'ada__n_estimators' : [10],\n",
    "}\n",
    "\n",
    "gs_ada = GridSearchCV(pipe,\n",
    "                    param_grid = params,\n",
    "                    cv = 5,\n",
    "                    scoring = 'accuracy'\n",
    "                    )\n",
    "\n",
    "gs_ada.fit(X_train, y_train)\n",
    "gs_ada.best_estimator_"
   ]
  },
  {
   "cell_type": "code",
   "execution_count": 42,
   "metadata": {},
   "outputs": [
    {
     "data": {
      "text/plain": [
       "0.5640540729845206"
      ]
     },
     "execution_count": 42,
     "metadata": {},
     "output_type": "execute_result"
    }
   ],
   "source": [
    "gs_ada.score(X_train, y_train) # scoring the model"
   ]
  },
  {
   "cell_type": "code",
   "execution_count": 43,
   "metadata": {},
   "outputs": [
    {
     "data": {
      "text/plain": [
       "0.5524967500134905"
      ]
     },
     "execution_count": 43,
     "metadata": {},
     "output_type": "execute_result"
    }
   ],
   "source": [
    "gs_ada.best_score_ # cross-val score"
   ]
  },
  {
   "cell_type": "code",
   "execution_count": 44,
   "metadata": {},
   "outputs": [
    {
     "data": {
      "text/plain": [
       "0.5578903130909855"
      ]
     },
     "execution_count": 44,
     "metadata": {},
     "output_type": "execute_result"
    }
   ],
   "source": [
    "gs_ada.score(X_test, y_test) # test score"
   ]
  },
  {
   "cell_type": "markdown",
   "metadata": {},
   "source": [
    "## Gradient Boosting Model"
   ]
  },
  {
   "cell_type": "code",
   "execution_count": 45,
   "metadata": {},
   "outputs": [
    {
     "data": {
      "text/plain": [
       "Pipeline(memory=None,\n",
       "         steps=[('grad',\n",
       "                 GradientBoostingClassifier(ccp_alpha=0.0,\n",
       "                                            criterion='friedman_mse', init=None,\n",
       "                                            learning_rate=0.1, loss='deviance',\n",
       "                                            max_depth=3, max_features=None,\n",
       "                                            max_leaf_nodes=None,\n",
       "                                            min_impurity_decrease=0.0,\n",
       "                                            min_impurity_split=None,\n",
       "                                            min_samples_leaf=1,\n",
       "                                            min_samples_split=2,\n",
       "                                            min_weight_fraction_leaf=0.0,\n",
       "                                            n_estimators=300,\n",
       "                                            n_iter_no_change=None,\n",
       "                                            presort='deprecated',\n",
       "                                            random_state=None, subsample=1.0,\n",
       "                                            tol=0.0001, validation_fraction=0.1,\n",
       "                                            verbose=0, warm_start=False))],\n",
       "         verbose=False)"
      ]
     },
     "execution_count": 45,
     "metadata": {},
     "output_type": "execute_result"
    }
   ],
   "source": [
    "pipe = Pipeline(steps = [                 # setting up a Gradient Boost model\n",
    "        ('grad', GradientBoostingClassifier())\n",
    "])\n",
    "\n",
    "params = {                                # setting model paramenters\n",
    "    'grad__n_estimators' : [300],\n",
    "    'grad__max_depth'    : [3]\n",
    "    \n",
    "}\n",
    "\n",
    "gs_grad = GridSearchCV(pipe,\n",
    "                    param_grid = params,\n",
    "                    cv = 5,\n",
    "                    scoring = 'accuracy'\n",
    "                    )\n",
    "\n",
    "gs_grad.fit(X_train, y_train)\n",
    "gs_grad.best_estimator_"
   ]
  },
  {
   "cell_type": "code",
   "execution_count": 46,
   "metadata": {},
   "outputs": [
    {
     "data": {
      "text/plain": [
       "0.708482174126217"
      ]
     },
     "execution_count": 46,
     "metadata": {},
     "output_type": "execute_result"
    }
   ],
   "source": [
    "gs_grad.score(X_train, y_train) # scoring the model"
   ]
  },
  {
   "cell_type": "code",
   "execution_count": 47,
   "metadata": {},
   "outputs": [
    {
     "data": {
      "text/plain": [
       "0.6593826497323974"
      ]
     },
     "execution_count": 47,
     "metadata": {},
     "output_type": "execute_result"
    }
   ],
   "source": [
    "gs_grad.best_score_ # cross-val score"
   ]
  },
  {
   "cell_type": "code",
   "execution_count": 48,
   "metadata": {
    "scrolled": true
   },
   "outputs": [
    {
     "data": {
      "text/plain": [
       "0.6505568396722"
      ]
     },
     "execution_count": 48,
     "metadata": {},
     "output_type": "execute_result"
    }
   ],
   "source": [
    "gs_grad.score(X_test, y_test) # test score"
   ]
  },
  {
   "cell_type": "markdown",
   "metadata": {},
   "source": [
    "## SVC Model"
   ]
  },
  {
   "cell_type": "code",
   "execution_count": 49,
   "metadata": {},
   "outputs": [
    {
     "data": {
      "text/plain": [
       "Pipeline(memory=None,\n",
       "         steps=[('svc',\n",
       "                 SVC(C=3, break_ties=False, cache_size=200, class_weight=None,\n",
       "                     coef0=0.0, decision_function_shape='ovr', degree=3,\n",
       "                     gamma='scale', kernel='rbf', max_iter=-1,\n",
       "                     probability=False, random_state=None, shrinking=True,\n",
       "                     tol=0.001, verbose=False))],\n",
       "         verbose=False)"
      ]
     },
     "execution_count": 49,
     "metadata": {},
     "output_type": "execute_result"
    }
   ],
   "source": [
    "pipe = Pipeline(steps = [                 # setting up an SVC model\n",
    "    ('svc', SVC())\n",
    "])\n",
    "\n",
    "params = {                                # setting model paramenters\n",
    "    'svc__C' : [3],\n",
    "}\n",
    "\n",
    "gs_svc = GridSearchCV(pipe,\n",
    "                    param_grid = params,\n",
    "                    cv = 5,\n",
    "                    scoring = 'accuracy'\n",
    "                    )\n",
    "\n",
    "gs_svc.fit(X_train, y_train)\n",
    "gs_svc.best_estimator_"
   ]
  },
  {
   "cell_type": "code",
   "execution_count": 50,
   "metadata": {},
   "outputs": [
    {
     "data": {
      "text/plain": [
       "0.5609021503116901"
      ]
     },
     "execution_count": 50,
     "metadata": {},
     "output_type": "execute_result"
    }
   ],
   "source": [
    "gs_svc.score(X_train, y_train) # scoring the model"
   ]
  },
  {
   "cell_type": "code",
   "execution_count": 51,
   "metadata": {},
   "outputs": [
    {
     "data": {
      "text/plain": [
       "0.565385583305126"
      ]
     },
     "execution_count": 51,
     "metadata": {},
     "output_type": "execute_result"
    }
   ],
   "source": [
    "gs_svc.best_score_ # cross-val score"
   ]
  },
  {
   "cell_type": "code",
   "execution_count": 52,
   "metadata": {},
   "outputs": [
    {
     "data": {
      "text/plain": [
       "0.556209287665476"
      ]
     },
     "execution_count": 52,
     "metadata": {},
     "output_type": "execute_result"
    }
   ],
   "source": [
    "gs_svc.score(X_test, y_test) # test score"
   ]
  },
  {
   "cell_type": "markdown",
   "metadata": {},
   "source": [
    "## Voting Classifier Model"
   ]
  },
  {
   "cell_type": "code",
   "execution_count": 53,
   "metadata": {},
   "outputs": [
    {
     "data": {
      "text/plain": [
       "VotingClassifier(estimators=[('rand',\n",
       "                              RandomForestClassifier(bootstrap=True,\n",
       "                                                     ccp_alpha=0.0,\n",
       "                                                     class_weight=None,\n",
       "                                                     criterion='gini',\n",
       "                                                     max_depth=15,\n",
       "                                                     max_features='auto',\n",
       "                                                     max_leaf_nodes=None,\n",
       "                                                     max_samples=None,\n",
       "                                                     min_impurity_decrease=0.0,\n",
       "                                                     min_impurity_split=None,\n",
       "                                                     min_samples_leaf=1,\n",
       "                                                     min_samples_split=2,\n",
       "                                                     min_weight_fraction_leaf=0.0,\n",
       "                                                     n_estimators=150,\n",
       "                                                     n_jobs=None,\n",
       "                                                     oob_score...\n",
       "                                                   random_state=None, verbose=0,\n",
       "                                                   warm_start=False)),\n",
       "                             ('knn_pipe',\n",
       "                              Pipeline(memory=None,\n",
       "                                       steps=[('ss',\n",
       "                                               StandardScaler(copy=True,\n",
       "                                                              with_mean=True,\n",
       "                                                              with_std=True)),\n",
       "                                              ('knn',\n",
       "                                               KNeighborsClassifier(algorithm='auto',\n",
       "                                                                    leaf_size=30,\n",
       "                                                                    metric='minkowski',\n",
       "                                                                    metric_params=None,\n",
       "                                                                    n_jobs=None,\n",
       "                                                                    n_neighbors=21,\n",
       "                                                                    p=2,\n",
       "                                                                    weights='uniform'))],\n",
       "                                       verbose=False))],\n",
       "                 flatten_transform=True, n_jobs=None, voting='soft',\n",
       "                 weights=None)"
      ]
     },
     "execution_count": 53,
     "metadata": {},
     "output_type": "execute_result"
    }
   ],
   "source": [
    "knn_pipe = Pipeline([                          # setting up a pipeline for a KNN model\n",
    "    ('ss', StandardScaler()),\n",
    "    ('knn', KNeighborsClassifier())\n",
    "])\n",
    "\n",
    "vote = VotingClassifier([                      # setting up a Voting Classifer model with multiple model inside it\n",
    "    ('rand', RandomForestClassifier()),\n",
    "    ('grad', GradientBoostingClassifier()),\n",
    "    ('lr', LogisticRegression()),\n",
    "    ('tree', DecisionTreeClassifier()),\n",
    "    ('bag', BaggingClassifier()),\n",
    "    ('ada', AdaBoostClassifier()),\n",
    "    ('extra', ExtraTreesClassifier()),\n",
    "    ('knn_pipe', knn_pipe)\n",
    "],\n",
    "                        voting='soft')\n",
    "vote_params = {                                # setting model paramenters for each model in the Voting Classifier\n",
    "    'rand__n_estimators' : [150],\n",
    "    'rand__max_depth' : [15],\n",
    "    'grad__n_estimators' : [300],\n",
    "    'tree__max_depth' : [8],\n",
    "    'bag__n_estimators' : [200],\n",
    "    'ada__n_estimators' : [10],\n",
    "    'extra__n_estimators' : [600],\n",
    "    'knn_pipe__knn__n_neighbors': [21],\n",
    "    'lr__penalty' : ['l1'],\n",
    "    'lr__C' : [1],\n",
    "    'lr__solver' : ['liblinear']    \n",
    "}\n",
    "gs_vc = GridSearchCV(vote,\n",
    "                     param_grid=vote_params,\n",
    "                     cv=5,\n",
    "                     scoring='accuracy'\n",
    "                     )\n",
    "gs_vc.fit(X_train, y_train)\n",
    "gs_vc.best_estimator_"
   ]
  },
  {
   "cell_type": "code",
   "execution_count": 54,
   "metadata": {},
   "outputs": [
    {
     "data": {
      "text/plain": [
       "0.8654479232331722"
      ]
     },
     "execution_count": 54,
     "metadata": {},
     "output_type": "execute_result"
    }
   ],
   "source": [
    "gs_vc.score(X_train, y_train) # scoring the model"
   ]
  },
  {
   "cell_type": "code",
   "execution_count": 55,
   "metadata": {},
   "outputs": [
    {
     "data": {
      "text/plain": [
       "0.6565808670228162"
      ]
     },
     "execution_count": 55,
     "metadata": {},
     "output_type": "execute_result"
    }
   ],
   "source": [
    "gs_vc.best_score_ # cross-val score"
   ]
  },
  {
   "cell_type": "code",
   "execution_count": 56,
   "metadata": {},
   "outputs": [
    {
     "data": {
      "text/plain": [
       "0.6495061987812566"
      ]
     },
     "execution_count": 56,
     "metadata": {},
     "output_type": "execute_result"
    }
   ],
   "source": [
    "gs_vc.score(X_test, y_test) # test score"
   ]
  },
  {
   "cell_type": "markdown",
   "metadata": {},
   "source": [
    "# Pickling"
   ]
  },
  {
   "cell_type": "code",
   "execution_count": 57,
   "metadata": {},
   "outputs": [],
   "source": [
    "pickle.dump(gs_grad, open('model.pkl', 'wb'))"
   ]
  },
  {
   "cell_type": "code",
   "execution_count": null,
   "metadata": {},
   "outputs": [],
   "source": []
  }
 ],
 "metadata": {
  "kernelspec": {
   "display_name": "Python 3",
   "language": "python",
   "name": "python3"
  },
  "language_info": {
   "codemirror_mode": {
    "name": "ipython",
    "version": 3
   },
   "file_extension": ".py",
   "mimetype": "text/x-python",
   "name": "python",
   "nbconvert_exporter": "python",
   "pygments_lexer": "ipython3",
   "version": "3.7.6"
  },
  "toc": {
   "base_numbering": 1,
   "nav_menu": {},
   "number_sections": true,
   "sideBar": true,
   "skip_h1_title": false,
   "title_cell": "Table of Contents",
   "title_sidebar": "Contents",
   "toc_cell": false,
   "toc_position": {},
   "toc_section_display": true,
   "toc_window_display": false
  },
  "varInspector": {
   "cols": {
    "lenName": 16,
    "lenType": 16,
    "lenVar": 40
   },
   "kernels_config": {
    "python": {
     "delete_cmd_postfix": "",
     "delete_cmd_prefix": "del ",
     "library": "var_list.py",
     "varRefreshCmd": "print(var_dic_list())"
    },
    "r": {
     "delete_cmd_postfix": ") ",
     "delete_cmd_prefix": "rm(",
     "library": "var_list.r",
     "varRefreshCmd": "cat(var_dic_list()) "
    }
   },
   "types_to_exclude": [
    "module",
    "function",
    "builtin_function_or_method",
    "instance",
    "_Feature"
   ],
   "window_display": false
  }
 },
 "nbformat": 4,
 "nbformat_minor": 4
}
